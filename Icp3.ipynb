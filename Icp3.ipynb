{
  "nbformat": 4,
  "nbformat_minor": 0,
  "metadata": {
    "colab": {
      "provenance": []
    },
    "kernelspec": {
      "name": "python3",
      "display_name": "Python 3"
    },
    "language_info": {
      "name": "python"
    }
  },
  "cells": [
    {
      "cell_type": "code",
      "execution_count": 9,
      "metadata": {
        "colab": {
          "base_uri": "https://localhost:8080/"
        },
        "id": "aKV6o3B7qAgS",
        "outputId": "acca18eb-9c63-45de-997c-7f29432ba769"
      },
      "outputs": [
        {
          "output_type": "stream",
          "name": "stdout",
          "text": [
            "[ 8 10 15 20  1 12  5 17  3 18  3 14 11  5 15]\n",
            "[[ 8 10 15 20  1]\n",
            " [12  5 17  3 18]\n",
            " [ 3 14 11  5 15]]\n",
            "The shape of the array is: (3, 5)\n",
            "updated array1:\n",
            " [[ 8 10 15  0  1]\n",
            " [12  5 17  3  0]\n",
            " [ 3 14 11  5  0]]\n",
            "Shape: (4, 3)\n",
            "type: <class 'numpy.ndarray'>\n",
            "data type: int32\n"
          ]
        }
      ],
      "source": [
        "import numpy as np\n",
        "import random\n",
        "\n",
        "#creating a random vector of size 15 having only integers from 1 to 20\n",
        "rand_vector = np.random.randint(low=1,high=21,size=15)\n",
        "print(rand_vector)\n",
        "\n",
        "# Reshaping the array to 3 by 5\n",
        "array1 = rand_vector.reshape(3,5)\n",
        "print(array1)\n",
        "\n",
        "# Print the shape of the array\n",
        "print(\"The shape of the array is:\" , array1.shape)\n",
        "\n",
        "# Replace the max in each row by 0\n",
        "\n",
        "# Finding the max indexes in each row\n",
        "max_indexes = np.argmax(array1 , axis=1)\n",
        "i=0\n",
        "# iterating over the max indexes\n",
        "for j in max_indexes:\n",
        "     array1[i][j]=0\n",
        "     i += 1\n",
        "print(\"updated array1:\\n\" , array1)\n",
        "\n",
        "# creating a 2d array of 4 by 3\n",
        "array2 = np.array(np.random.randint(1 , 21, size=(4,3)), np.int32)\n",
        "# Printing array shape\n",
        "print(\"Shape:\", array2.shape)\n",
        "# Printing array type\n",
        "print(\"type:\", type(array2))\n",
        "#printing array datatype\n",
        "print(\"data type:\", array2.dtype)\n",
        "\n",
        "\n",
        "\n",
        "\n"
      ]
    },
    {
      "cell_type": "code",
      "source": [
        "# Defining the given array\n",
        "array3 = np.array([[3 , -2] , [1 , 0]])\n",
        "# Computing the eigenvalues and right eigenvectors\n",
        "eigenvalues, eigenvectors = np.linalg.eig(array3)\n",
        "# Printing eigenvalues\n",
        "print(\"eigenvalues:\\n\", eigenvalues)\n",
        "# printing right eigenvectors\n",
        "print(\"\\nRight eigenvectors:\\n\" , eigenvectors )"
      ],
      "metadata": {
        "colab": {
          "base_uri": "https://localhost:8080/"
        },
        "id": "jr3zAs9A47N3",
        "outputId": "1105c914-31d6-4151-adad-0482b76b924b"
      },
      "execution_count": 11,
      "outputs": [
        {
          "output_type": "stream",
          "name": "stdout",
          "text": [
            "eigenvalues:\n",
            " [2. 1.]\n",
            "\n",
            "Right eigenvectors:\n",
            " [[0.89442719 0.70710678]\n",
            " [0.4472136  0.70710678]]\n"
          ]
        }
      ]
    },
    {
      "cell_type": "code",
      "source": [
        "# Defining the given array\n",
        "array4 = np.array([[0, 1, 2],[3, 4, 5]])\n",
        "# Computing the sum of the diagonal elements\n",
        "sum_diagonal = np.trace(array4)\n",
        "sum_diagonal"
      ],
      "metadata": {
        "colab": {
          "base_uri": "https://localhost:8080/"
        },
        "id": "--O_-y6w6wyS",
        "outputId": "e5e13af5-9496-417f-dca1-0273594ff64e"
      },
      "execution_count": 12,
      "outputs": [
        {
          "output_type": "execute_result",
          "data": {
            "text/plain": [
              "4"
            ]
          },
          "metadata": {},
          "execution_count": 12
        }
      ]
    },
    {
      "cell_type": "code",
      "source": [
        "# Defining the given array\n",
        "array5 = np.array([[1, 2],[3, 4],[5, 6]])\n",
        "# Reshaping the array to 2 by 3 without changing the data\n",
        "new_array5 = array5.reshape(2, 3)\n",
        "print(\"new array5:\",new_array5)\n",
        "\n",
        "# Defining another array\n",
        "array6 = np.array([[1, 2, 3], [4, 5, 6]])\n",
        "# Reshaping the array to 3 by 2\n",
        "new_array6 = array6.reshape(3, 2)\n",
        "print(\"new array6:\\n\",new_array6)\n"
      ],
      "metadata": {
        "colab": {
          "base_uri": "https://localhost:8080/"
        },
        "id": "PNvFBC297w5V",
        "outputId": "1638c5c8-ca90-4cc8-93be-5b7eb38004d1"
      },
      "execution_count": 20,
      "outputs": [
        {
          "output_type": "stream",
          "name": "stdout",
          "text": [
            "new array5: [[1 2 3]\n",
            " [4 5 6]]\n",
            "new array6:\n",
            " [[1 2]\n",
            " [3 4]\n",
            " [5 6]]\n"
          ]
        }
      ]
    }
  ]
}